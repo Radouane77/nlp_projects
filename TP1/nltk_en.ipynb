{
 "cells": [
  {
   "cell_type": "code",
   "execution_count": null,
   "id": "b6069fd8",
   "metadata": {},
   "outputs": [],
   "source": [
    "!pip install nltk\n",
    "import nltk\n",
    "from nltk.tokenize import  word_tokenize,sent_tokenize\n",
    "from nltk.tokenize import  WordPunctTokenizer\n",
    "from nltk.stem import PorterStemmer,WordNetLemmatizer\n",
    "\n",
    "text=\"Perhaps one of the most significant advances made by Arabic mathematics began at this time with the work of al-Khwarizmi, namely the beginnings of algebra. It is important to understand just how significant this new idea was. It was a revolutionary move away from the Greek concept of mathematics which was essentially geometry. Algebra was a unifying theory which allowed rational numbers,irrational numbers, geometrical magnitudes, etc., to all be treated as \\\"algebraic objects\\\". It gave mathematics a whole new development path so much broader in concept to that which had existed before, and provided a vehicle for future development of the subject. Another important aspect of the introduction of algebraic ideas was that it allowed mathematics to be applied to itselfin a way which had not happened before.\"\n",
    "#first tokenization\n",
    "\n",
    "#word tokenization\n",
    "word_tok=word_tokenize(text)\n",
    "print(word_tok)\n",
    "\n",
    "#sentence tokenization\n",
    "sent_tok=sent_tokenize(text)\n",
    "print(sent_tok)\n",
    "\n",
    "#WordPunctTokenizer split all the punctuation\n",
    "tokenizer=WordPunctTokenizer()\n",
    "print(tokenizer.tokenize(text))\n",
    "\n",
    "#second pos tagging\n",
    "pos=nltk.pos_tag(word_tok)\n",
    "print(pos)\n",
    "\n",
    "\n",
    "#third steming and lemmatisation\n",
    "\n",
    "stem=PorterStemmer()\n",
    "lemm=WordNetLemmatizer()\n",
    "\n",
    "for w in word_tok:\n",
    "    print(w,\" : \",stem.stem(w),\" : \",lemm.lemmatize(w))\n",
    "\n",
    "\n"
   ]
  },
  {
   "cell_type": "code",
   "execution_count": null,
   "id": "c605ad86",
   "metadata": {},
   "outputs": [],
   "source": []
  },
  {
   "cell_type": "code",
   "execution_count": null,
   "id": "b6e4f433",
   "metadata": {},
   "outputs": [],
   "source": []
  },
  {
   "cell_type": "code",
   "execution_count": null,
   "id": "04f6e797",
   "metadata": {},
   "outputs": [],
   "source": []
  }
 ],
 "metadata": {
  "kernelspec": {
   "display_name": "Python 3 (ipykernel)",
   "language": "python",
   "name": "python3"
  },
  "language_info": {
   "codemirror_mode": {
    "name": "ipython",
    "version": 3
   },
   "file_extension": ".py",
   "mimetype": "text/x-python",
   "name": "python",
   "nbconvert_exporter": "python",
   "pygments_lexer": "ipython3",
   "version": "3.8.6"
  }
 },
 "nbformat": 4,
 "nbformat_minor": 5
}
