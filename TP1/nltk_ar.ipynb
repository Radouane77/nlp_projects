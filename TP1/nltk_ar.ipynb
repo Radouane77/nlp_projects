{
 "cells": [
  {
   "cell_type": "code",
   "execution_count": null,
   "id": "fa98761c",
   "metadata": {},
   "outputs": [],
   "source": [
    "!pip install nltk\n",
    "import nltk\n",
    "from nltk.tokenize import  word_tokenize,sent_tokenize\n",
    "from nltk.tokenize import  WordPunctTokenizer\n",
    "from nltk.stem import PorterStemmer,WordNetLemmatizer\n",
    "\n",
    "text_ar = \"ربما كانت أحد أهم التطورات التي قامت بها الرياضيات العربية التي بدأت في هذا الوقت بعمل الخوارزمي و هي بدايات الجبر، و من المهم فهم كيف كانت هذه الفكرة الجديدة مهمة، فقد كانت خطوة ثورية بعيدا عن المفهوم اليوناني للرياضيات التي هي في جوهرها هندسة، الجبر كان نظرية موحدة تتيح الأعداد الكسرية و الأعداد اللا كسرية، و المقادير الهندسية و غيرها، أن تتعامل على أنها أجسام جبرية، و أعطت الرياضيات ككل مسارا جديدا للتطور بمفهوم أوسع بكثير من الذي كان موجودا من قبل، و قدم وسيلة للتنمية في هذا الموضوع مستقبلا و جانب آخر مهم لإدخال أفكار الجبر و هو أنه سمح بتطبيق الرياضيات على نفسها بطريقة لم تحدث من قبل \"\n",
    "\n",
    "#first tokenization\n",
    "\n",
    "#word tokenization\n",
    "word_tok_ar=word_tokenize(text_ar)\n",
    "print(word_tok_ar)\n",
    "\n",
    "#sentence tokenization\n",
    "sent_tok_ar=sent_tokenize(text_ar)\n",
    "print(sent_tok_ar)\n",
    "\n",
    "#WordPunctTokenizer split all the punctuation\n",
    "tokenizer=WordPunctTokenizer()\n",
    "print(tokenizer.tokenize(text_ar))\n",
    "\n",
    "\n",
    "#second pos tagging\n",
    "pos=nltk.pos_tag(word_tok_ar)\n",
    "print(pos)\n",
    "\n",
    "\n",
    "#third steming and lemmatisation\n",
    "\n",
    "stem=PorterStemmer()\n",
    "lemm=WordNetLemmatizer()\n",
    "\n",
    "for w in word_tok_ar:\n",
    "    print(w,\" : \",stem.stem(w),\" : \",lemm.lemmatize(w))"
   ]
  },
  {
   "cell_type": "code",
   "execution_count": null,
   "id": "5e1463e1",
   "metadata": {},
   "outputs": [],
   "source": []
  },
  {
   "cell_type": "code",
   "execution_count": null,
   "id": "098a8b62",
   "metadata": {},
   "outputs": [],
   "source": []
  },
  {
   "cell_type": "code",
   "execution_count": null,
   "id": "6a80190d",
   "metadata": {},
   "outputs": [],
   "source": []
  }
 ],
 "metadata": {
  "kernelspec": {
   "display_name": "Python 3 (ipykernel)",
   "language": "python",
   "name": "python3"
  },
  "language_info": {
   "codemirror_mode": {
    "name": "ipython",
    "version": 3
   },
   "file_extension": ".py",
   "mimetype": "text/x-python",
   "name": "python",
   "nbconvert_exporter": "python",
   "pygments_lexer": "ipython3",
   "version": "3.8.6"
  }
 },
 "nbformat": 4,
 "nbformat_minor": 5
}
