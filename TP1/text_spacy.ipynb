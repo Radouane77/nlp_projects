{
 "cells": [
  {
   "cell_type": "code",
   "execution_count": null,
   "id": "232ffef8",
   "metadata": {},
   "outputs": [],
   "source": [
    "!pip install spacy\n",
    "import spacy\n",
    "\n",
    "\n",
    "nlp = spacy.load('en_core_web_sm')\n",
    "text=nlp(\"Perhaps one of the most significant advances made by Arabic mathematics began at this time with the work of al-Khwarizmi, namely the beginnings of algebra. It is important to understand just how significant this new idea was. It was a revolutionary move away from the Greek concept of mathematics which was essentially geometry. Algebra was a unifying theory which allowed rational numbers,irrational numbers, geometrical magnitudes, etc., to all be treated as \\\"algebraic objects\\\". It gave mathematics a whole new development path so much broader in concept to that which had existed before, and provided a vehicle for future development of the subject. Another important aspect of the introduction of algebraic ideas was that it allowed mathematics to be applied to itselfin a way which had not happened before.\")\n",
    "\n",
    "#sentence tokenization\n",
    "for s in text.sents:\n",
    "    print(s)\n",
    "\n",
    "#word tokenization\n",
    "for s in text:\n",
    "    print(s)\n",
    "\n",
    "#POS TAGGING\n",
    "for w in text:\n",
    "    print(w,\" : \",w.pos_,\" : \",w.tag_)\n",
    "\n",
    "#spacy.explain('DT')\n",
    "\n",
    "#stem and lemm\n",
    "for w in text:\n",
    "    print(w.text,\" : \",w.lemma_)"
   ]
  },
  {
   "cell_type": "code",
   "execution_count": null,
   "id": "6c1d0272",
   "metadata": {},
   "outputs": [],
   "source": []
  },
  {
   "cell_type": "code",
   "execution_count": null,
   "id": "74c07aa1",
   "metadata": {},
   "outputs": [],
   "source": []
  },
  {
   "cell_type": "code",
   "execution_count": null,
   "id": "a17d8323",
   "metadata": {},
   "outputs": [],
   "source": []
  }
 ],
 "metadata": {
  "kernelspec": {
   "display_name": "Python 3 (ipykernel)",
   "language": "python",
   "name": "python3"
  },
  "language_info": {
   "codemirror_mode": {
    "name": "ipython",
    "version": 3
   },
   "file_extension": ".py",
   "mimetype": "text/x-python",
   "name": "python",
   "nbconvert_exporter": "python",
   "pygments_lexer": "ipython3",
   "version": "3.8.6"
  }
 },
 "nbformat": 4,
 "nbformat_minor": 5
}
