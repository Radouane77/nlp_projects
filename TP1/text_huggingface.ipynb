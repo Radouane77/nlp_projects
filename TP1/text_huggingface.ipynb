{
 "cells": [
  {
   "cell_type": "code",
   "execution_count": null,
   "id": "0b6491e0",
   "metadata": {},
   "outputs": [],
   "source": [
    "!pip install tiny-tokenizer flair\n",
    "from transformers import AutoTokenizer\n",
    "from flair.data import Sentence\n",
    "\n",
    "from flair.models import SequenceTagger\n",
    "\n",
    "#tokenization\n",
    "token=AutoTokenizer.from_pretrained(\"bert-base-uncased\")\n",
    "text=\"Perhaps one of the most significant advances made by Arabic mathematics began at this time with the work of al-Khwarizmi, namely the beginnings of algebra. It is important to understand just how significant this new idea was. It was a revolutionary move away from the Greek concept of mathematics which was essentially geometry. Algebra was a unifying theory which allowed rational numbers,irrational numbers, geometrical magnitudes, etc., to all be treated as \\\"algebraic objects\\\". It gave mathematics a whole new development path so much broader in concept to that which had existed before, and provided a vehicle for future development of the subject. Another important aspect of the introduction of algebraic ideas was that it allowed mathematics to be applied to itselfin a way which had not happened before.\"\n",
    "word_tok=token.tokenize(text)\n",
    "print(word_tok)\n",
    "\n",
    "#pos tagging\n",
    "\n",
    "tagger = SequenceTagger.load(\"flair/pos-english\")\n",
    "tagger.predict(text)\n",
    "\n",
    "\n",
    "for w in text.get_spans('pos'):\n",
    "    print(w)\n",
    "\n",
    "\n"
   ]
  },
  {
   "cell_type": "code",
   "execution_count": null,
   "id": "c6070d4c",
   "metadata": {},
   "outputs": [],
   "source": []
  },
  {
   "cell_type": "code",
   "execution_count": null,
   "id": "19dd78af",
   "metadata": {},
   "outputs": [],
   "source": []
  },
  {
   "cell_type": "code",
   "execution_count": null,
   "id": "8f3053a5",
   "metadata": {},
   "outputs": [],
   "source": []
  }
 ],
 "metadata": {
  "kernelspec": {
   "display_name": "Python 3 (ipykernel)",
   "language": "python",
   "name": "python3"
  },
  "language_info": {
   "codemirror_mode": {
    "name": "ipython",
    "version": 3
   },
   "file_extension": ".py",
   "mimetype": "text/x-python",
   "name": "python",
   "nbconvert_exporter": "python",
   "pygments_lexer": "ipython3",
   "version": "3.8.6"
  }
 },
 "nbformat": 4,
 "nbformat_minor": 5
}
